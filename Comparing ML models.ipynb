{
  "cells": [
    {
      "cell_type": "markdown",
      "metadata": {
        "id": "Le9BMIBSeajd"
      },
      "source": [
        "## **Models Comparing on the same Dataset - Machine Learning**"
      ]
    },
    {
      "cell_type": "markdown",
      "metadata": {
        "id": "BOHwCmF5V9tE"
      },
      "source": [
        "# **Import libraries**"
      ]
    },
    {
      "cell_type": "code",
      "execution_count": null,
      "metadata": {
        "id": "5y9iAd4K8I3F"
      },
      "outputs": [],
      "source": [
        "import sklearn\n",
        "import pandas as pd\n",
        "import numpy as np\n",
        "from sklearn.linear_model import LogisticRegression\n",
        "from sklearn.preprocessing import StandardScaler\n",
        "from sklearn.model_selection import train_test_split\n",
        "from sklearn.pipeline import Pipeline\n",
        "from sklearn.metrics import confusion_matrix\n",
        "from imblearn.over_sampling import SMOTE \n",
        "from sklearn.metrics import accuracy_score\n",
        "from sklearn.ensemble import GradientBoostingClassifier\n",
        "from sklearn.neural_network import MLPClassifier\n",
        "from sklearn.model_selection import GridSearchCV\n",
        "from imblearn.pipeline import Pipeline\n",
        "import matplotlib.pyplot as plt\n",
        "import time\n",
        "from sklearn.metrics import roc_curve, roc_auc_score\n",
        "from sklearn.model_selection import ShuffleSplit,cross_val_score\n",
        "from sklearn import metrics\n",
        "import warnings\n",
        "warnings.filterwarnings('ignore')\n"
      ]
    },
    {
      "cell_type": "markdown",
      "metadata": {
        "id": "--CH5sASWGGh"
      },
      "source": [
        "# **Load the data**"
      ]
    },
    {
      "cell_type": "code",
      "execution_count": null,
      "metadata": {
        "id": "IFU5jsn_8NIa"
      },
      "outputs": [],
      "source": [
        "df = pd.read_csv('/content/ex4_data.csv')"
      ]
    },
    {
      "cell_type": "code",
      "execution_count": null,
      "metadata": {
        "colab": {
          "base_uri": "https://localhost:8080/",
          "height": 487
        },
        "id": "YxKyq45P8NBo",
        "outputId": "e7b0ed9a-61d1-4354-99f7-9350824b50f0"
      },
      "outputs": [
        {
          "output_type": "execute_result",
          "data": {
            "text/html": [
              "\n",
              "  <div id=\"df-01b0deaf-9f0b-4f45-b4b9-b370ca428e7e\">\n",
              "    <div class=\"colab-df-container\">\n",
              "      <div>\n",
              "<style scoped>\n",
              "    .dataframe tbody tr th:only-of-type {\n",
              "        vertical-align: middle;\n",
              "    }\n",
              "\n",
              "    .dataframe tbody tr th {\n",
              "        vertical-align: top;\n",
              "    }\n",
              "\n",
              "    .dataframe thead th {\n",
              "        text-align: right;\n",
              "    }\n",
              "</style>\n",
              "<table border=\"1\" class=\"dataframe\">\n",
              "  <thead>\n",
              "    <tr style=\"text-align: right;\">\n",
              "      <th></th>\n",
              "      <th>INTENSIVE</th>\n",
              "      <th>NEWSITEID</th>\n",
              "      <th>RISK10YRS</th>\n",
              "      <th>INCLUSIONFRS</th>\n",
              "      <th>SBP</th>\n",
              "      <th>DBP</th>\n",
              "      <th>N_AGENTS</th>\n",
              "      <th>NOAGENTS</th>\n",
              "      <th>SMOKE_3CAT</th>\n",
              "      <th>ASPIRIN</th>\n",
              "      <th>EGFR</th>\n",
              "      <th>SCREAT</th>\n",
              "      <th>SUB_CKD</th>\n",
              "      <th>RACE_BLACK</th>\n",
              "      <th>AGE</th>\n",
              "      <th>FEMALE</th>\n",
              "      <th>SUB_CVD</th>\n",
              "      <th>SUB_CLINICALCVD</th>\n",
              "      <th>SUB_SUBCLINICALCVD</th>\n",
              "      <th>SUB_SENIOR</th>\n",
              "      <th>RACE4</th>\n",
              "      <th>CHR</th>\n",
              "      <th>GLUR</th>\n",
              "      <th>HDL</th>\n",
              "      <th>TRR</th>\n",
              "      <th>UMALCR</th>\n",
              "      <th>BMI</th>\n",
              "      <th>STATIN</th>\n",
              "      <th>SBPTERTILE</th>\n",
              "      <th>EVENT_PRIMARY</th>\n",
              "    </tr>\n",
              "  </thead>\n",
              "  <tbody>\n",
              "    <tr>\n",
              "      <th>0</th>\n",
              "      <td>Regular</td>\n",
              "      <td>74.0</td>\n",
              "      <td>29.732061</td>\n",
              "      <td>True</td>\n",
              "      <td>145</td>\n",
              "      <td>80</td>\n",
              "      <td>2</td>\n",
              "      <td>False</td>\n",
              "      <td>3</td>\n",
              "      <td>True</td>\n",
              "      <td>67.69</td>\n",
              "      <td>1.11</td>\n",
              "      <td>False</td>\n",
              "      <td>False</td>\n",
              "      <td>60</td>\n",
              "      <td>False</td>\n",
              "      <td>True</td>\n",
              "      <td>True</td>\n",
              "      <td>False</td>\n",
              "      <td>False</td>\n",
              "      <td>WHITE</td>\n",
              "      <td>155</td>\n",
              "      <td>81</td>\n",
              "      <td>36</td>\n",
              "      <td>92</td>\n",
              "      <td>5.80</td>\n",
              "      <td>33.115201</td>\n",
              "      <td>True</td>\n",
              "      <td>3</td>\n",
              "      <td>False</td>\n",
              "    </tr>\n",
              "    <tr>\n",
              "      <th>1</th>\n",
              "      <td>Regular</td>\n",
              "      <td>8.0</td>\n",
              "      <td>29.677619</td>\n",
              "      <td>True</td>\n",
              "      <td>138</td>\n",
              "      <td>71</td>\n",
              "      <td>1</td>\n",
              "      <td>False</td>\n",
              "      <td>2</td>\n",
              "      <td>True</td>\n",
              "      <td>60.64</td>\n",
              "      <td>1.17</td>\n",
              "      <td>False</td>\n",
              "      <td>False</td>\n",
              "      <td>75</td>\n",
              "      <td>False</td>\n",
              "      <td>False</td>\n",
              "      <td>False</td>\n",
              "      <td>False</td>\n",
              "      <td>True</td>\n",
              "      <td>WHITE</td>\n",
              "      <td>243</td>\n",
              "      <td>107</td>\n",
              "      <td>61</td>\n",
              "      <td>188</td>\n",
              "      <td>5.45</td>\n",
              "      <td>28.842380</td>\n",
              "      <td>True</td>\n",
              "      <td>2</td>\n",
              "      <td>False</td>\n",
              "    </tr>\n",
              "    <tr>\n",
              "      <th>2</th>\n",
              "      <td>Intensive</td>\n",
              "      <td>25.0</td>\n",
              "      <td>17.443819</td>\n",
              "      <td>True</td>\n",
              "      <td>143</td>\n",
              "      <td>92</td>\n",
              "      <td>2</td>\n",
              "      <td>False</td>\n",
              "      <td>2</td>\n",
              "      <td>False</td>\n",
              "      <td>68.44</td>\n",
              "      <td>1.09</td>\n",
              "      <td>False</td>\n",
              "      <td>False</td>\n",
              "      <td>62</td>\n",
              "      <td>False</td>\n",
              "      <td>False</td>\n",
              "      <td>False</td>\n",
              "      <td>False</td>\n",
              "      <td>False</td>\n",
              "      <td>WHITE</td>\n",
              "      <td>180</td>\n",
              "      <td>116</td>\n",
              "      <td>47</td>\n",
              "      <td>125</td>\n",
              "      <td>13.33</td>\n",
              "      <td>33.643060</td>\n",
              "      <td>False</td>\n",
              "      <td>2</td>\n",
              "      <td>False</td>\n",
              "    </tr>\n",
              "    <tr>\n",
              "      <th>3</th>\n",
              "      <td>Regular</td>\n",
              "      <td>96.0</td>\n",
              "      <td>8.627849</td>\n",
              "      <td>False</td>\n",
              "      <td>123</td>\n",
              "      <td>68</td>\n",
              "      <td>2</td>\n",
              "      <td>False</td>\n",
              "      <td>1</td>\n",
              "      <td>False</td>\n",
              "      <td>71.94</td>\n",
              "      <td>0.78</td>\n",
              "      <td>False</td>\n",
              "      <td>False</td>\n",
              "      <td>75</td>\n",
              "      <td>True</td>\n",
              "      <td>False</td>\n",
              "      <td>False</td>\n",
              "      <td>False</td>\n",
              "      <td>True</td>\n",
              "      <td>WHITE</td>\n",
              "      <td>234</td>\n",
              "      <td>93</td>\n",
              "      <td>89</td>\n",
              "      <td>109</td>\n",
              "      <td>6.12</td>\n",
              "      <td>29.337871</td>\n",
              "      <td>False</td>\n",
              "      <td>1</td>\n",
              "      <td>False</td>\n",
              "    </tr>\n",
              "    <tr>\n",
              "      <th>4</th>\n",
              "      <td>Intensive</td>\n",
              "      <td>42.0</td>\n",
              "      <td>23.751437</td>\n",
              "      <td>True</td>\n",
              "      <td>126</td>\n",
              "      <td>51</td>\n",
              "      <td>2</td>\n",
              "      <td>False</td>\n",
              "      <td>2</td>\n",
              "      <td>False</td>\n",
              "      <td>50.19</td>\n",
              "      <td>1.36</td>\n",
              "      <td>True</td>\n",
              "      <td>False</td>\n",
              "      <td>81</td>\n",
              "      <td>False</td>\n",
              "      <td>False</td>\n",
              "      <td>False</td>\n",
              "      <td>False</td>\n",
              "      <td>True</td>\n",
              "      <td>WHITE</td>\n",
              "      <td>126</td>\n",
              "      <td>108</td>\n",
              "      <td>39</td>\n",
              "      <td>84</td>\n",
              "      <td>28.78</td>\n",
              "      <td>36.660286</td>\n",
              "      <td>False</td>\n",
              "      <td>1</td>\n",
              "      <td>False</td>\n",
              "    </tr>\n",
              "    <tr>\n",
              "      <th>...</th>\n",
              "      <td>...</td>\n",
              "      <td>...</td>\n",
              "      <td>...</td>\n",
              "      <td>...</td>\n",
              "      <td>...</td>\n",
              "      <td>...</td>\n",
              "      <td>...</td>\n",
              "      <td>...</td>\n",
              "      <td>...</td>\n",
              "      <td>...</td>\n",
              "      <td>...</td>\n",
              "      <td>...</td>\n",
              "      <td>...</td>\n",
              "      <td>...</td>\n",
              "      <td>...</td>\n",
              "      <td>...</td>\n",
              "      <td>...</td>\n",
              "      <td>...</td>\n",
              "      <td>...</td>\n",
              "      <td>...</td>\n",
              "      <td>...</td>\n",
              "      <td>...</td>\n",
              "      <td>...</td>\n",
              "      <td>...</td>\n",
              "      <td>...</td>\n",
              "      <td>...</td>\n",
              "      <td>...</td>\n",
              "      <td>...</td>\n",
              "      <td>...</td>\n",
              "      <td>...</td>\n",
              "    </tr>\n",
              "    <tr>\n",
              "      <th>8741</th>\n",
              "      <td>Regular</td>\n",
              "      <td>102.0</td>\n",
              "      <td>10.896486</td>\n",
              "      <td>False</td>\n",
              "      <td>138</td>\n",
              "      <td>59</td>\n",
              "      <td>2</td>\n",
              "      <td>False</td>\n",
              "      <td>2</td>\n",
              "      <td>True</td>\n",
              "      <td>79.57</td>\n",
              "      <td>0.71</td>\n",
              "      <td>False</td>\n",
              "      <td>False</td>\n",
              "      <td>78</td>\n",
              "      <td>True</td>\n",
              "      <td>False</td>\n",
              "      <td>False</td>\n",
              "      <td>False</td>\n",
              "      <td>True</td>\n",
              "      <td>WHITE</td>\n",
              "      <td>199</td>\n",
              "      <td>90</td>\n",
              "      <td>85</td>\n",
              "      <td>74</td>\n",
              "      <td>12.73</td>\n",
              "      <td>27.186534</td>\n",
              "      <td>True</td>\n",
              "      <td>2</td>\n",
              "      <td>False</td>\n",
              "    </tr>\n",
              "    <tr>\n",
              "      <th>8742</th>\n",
              "      <td>Regular</td>\n",
              "      <td>98.0</td>\n",
              "      <td>8.646088</td>\n",
              "      <td>False</td>\n",
              "      <td>119</td>\n",
              "      <td>73</td>\n",
              "      <td>3</td>\n",
              "      <td>False</td>\n",
              "      <td>2</td>\n",
              "      <td>False</td>\n",
              "      <td>22.60</td>\n",
              "      <td>2.08</td>\n",
              "      <td>True</td>\n",
              "      <td>False</td>\n",
              "      <td>85</td>\n",
              "      <td>True</td>\n",
              "      <td>False</td>\n",
              "      <td>False</td>\n",
              "      <td>False</td>\n",
              "      <td>True</td>\n",
              "      <td>WHITE</td>\n",
              "      <td>145</td>\n",
              "      <td>83</td>\n",
              "      <td>52</td>\n",
              "      <td>95</td>\n",
              "      <td>440.38</td>\n",
              "      <td>42.191997</td>\n",
              "      <td>True</td>\n",
              "      <td>1</td>\n",
              "      <td>False</td>\n",
              "    </tr>\n",
              "    <tr>\n",
              "      <th>8743</th>\n",
              "      <td>Regular</td>\n",
              "      <td>99.0</td>\n",
              "      <td>24.191491</td>\n",
              "      <td>True</td>\n",
              "      <td>137</td>\n",
              "      <td>75</td>\n",
              "      <td>0</td>\n",
              "      <td>True</td>\n",
              "      <td>2</td>\n",
              "      <td>False</td>\n",
              "      <td>74.74</td>\n",
              "      <td>1.00</td>\n",
              "      <td>False</td>\n",
              "      <td>False</td>\n",
              "      <td>66</td>\n",
              "      <td>False</td>\n",
              "      <td>True</td>\n",
              "      <td>True</td>\n",
              "      <td>False</td>\n",
              "      <td>False</td>\n",
              "      <td>WHITE</td>\n",
              "      <td>167</td>\n",
              "      <td>80</td>\n",
              "      <td>46</td>\n",
              "      <td>75</td>\n",
              "      <td>26.92</td>\n",
              "      <td>19.462021</td>\n",
              "      <td>True</td>\n",
              "      <td>2</td>\n",
              "      <td>False</td>\n",
              "    </tr>\n",
              "    <tr>\n",
              "      <th>8744</th>\n",
              "      <td>Intensive</td>\n",
              "      <td>15.0</td>\n",
              "      <td>20.354619</td>\n",
              "      <td>True</td>\n",
              "      <td>154</td>\n",
              "      <td>93</td>\n",
              "      <td>0</td>\n",
              "      <td>True</td>\n",
              "      <td>2</td>\n",
              "      <td>True</td>\n",
              "      <td>32.32</td>\n",
              "      <td>1.64</td>\n",
              "      <td>True</td>\n",
              "      <td>False</td>\n",
              "      <td>56</td>\n",
              "      <td>True</td>\n",
              "      <td>False</td>\n",
              "      <td>False</td>\n",
              "      <td>False</td>\n",
              "      <td>False</td>\n",
              "      <td>WHITE</td>\n",
              "      <td>245</td>\n",
              "      <td>103</td>\n",
              "      <td>37</td>\n",
              "      <td>369</td>\n",
              "      <td>3.20</td>\n",
              "      <td>35.579436</td>\n",
              "      <td>False</td>\n",
              "      <td>3</td>\n",
              "      <td>False</td>\n",
              "    </tr>\n",
              "    <tr>\n",
              "      <th>8745</th>\n",
              "      <td>Intensive</td>\n",
              "      <td>74.0</td>\n",
              "      <td>7.459888</td>\n",
              "      <td>False</td>\n",
              "      <td>146</td>\n",
              "      <td>81</td>\n",
              "      <td>1</td>\n",
              "      <td>False</td>\n",
              "      <td>1</td>\n",
              "      <td>True</td>\n",
              "      <td>92.08</td>\n",
              "      <td>0.64</td>\n",
              "      <td>False</td>\n",
              "      <td>False</td>\n",
              "      <td>68</td>\n",
              "      <td>True</td>\n",
              "      <td>False</td>\n",
              "      <td>False</td>\n",
              "      <td>False</td>\n",
              "      <td>False</td>\n",
              "      <td>WHITE</td>\n",
              "      <td>123</td>\n",
              "      <td>87</td>\n",
              "      <td>52</td>\n",
              "      <td>71</td>\n",
              "      <td>9.17</td>\n",
              "      <td>30.783013</td>\n",
              "      <td>True</td>\n",
              "      <td>3</td>\n",
              "      <td>False</td>\n",
              "    </tr>\n",
              "  </tbody>\n",
              "</table>\n",
              "<p>8746 rows × 30 columns</p>\n",
              "</div>\n",
              "      <button class=\"colab-df-convert\" onclick=\"convertToInteractive('df-01b0deaf-9f0b-4f45-b4b9-b370ca428e7e')\"\n",
              "              title=\"Convert this dataframe to an interactive table.\"\n",
              "              style=\"display:none;\">\n",
              "        \n",
              "  <svg xmlns=\"http://www.w3.org/2000/svg\" height=\"24px\"viewBox=\"0 0 24 24\"\n",
              "       width=\"24px\">\n",
              "    <path d=\"M0 0h24v24H0V0z\" fill=\"none\"/>\n",
              "    <path d=\"M18.56 5.44l.94 2.06.94-2.06 2.06-.94-2.06-.94-.94-2.06-.94 2.06-2.06.94zm-11 1L8.5 8.5l.94-2.06 2.06-.94-2.06-.94L8.5 2.5l-.94 2.06-2.06.94zm10 10l.94 2.06.94-2.06 2.06-.94-2.06-.94-.94-2.06-.94 2.06-2.06.94z\"/><path d=\"M17.41 7.96l-1.37-1.37c-.4-.4-.92-.59-1.43-.59-.52 0-1.04.2-1.43.59L10.3 9.45l-7.72 7.72c-.78.78-.78 2.05 0 2.83L4 21.41c.39.39.9.59 1.41.59.51 0 1.02-.2 1.41-.59l7.78-7.78 2.81-2.81c.8-.78.8-2.07 0-2.86zM5.41 20L4 18.59l7.72-7.72 1.47 1.35L5.41 20z\"/>\n",
              "  </svg>\n",
              "      </button>\n",
              "      \n",
              "  <style>\n",
              "    .colab-df-container {\n",
              "      display:flex;\n",
              "      flex-wrap:wrap;\n",
              "      gap: 12px;\n",
              "    }\n",
              "\n",
              "    .colab-df-convert {\n",
              "      background-color: #E8F0FE;\n",
              "      border: none;\n",
              "      border-radius: 50%;\n",
              "      cursor: pointer;\n",
              "      display: none;\n",
              "      fill: #1967D2;\n",
              "      height: 32px;\n",
              "      padding: 0 0 0 0;\n",
              "      width: 32px;\n",
              "    }\n",
              "\n",
              "    .colab-df-convert:hover {\n",
              "      background-color: #E2EBFA;\n",
              "      box-shadow: 0px 1px 2px rgba(60, 64, 67, 0.3), 0px 1px 3px 1px rgba(60, 64, 67, 0.15);\n",
              "      fill: #174EA6;\n",
              "    }\n",
              "\n",
              "    [theme=dark] .colab-df-convert {\n",
              "      background-color: #3B4455;\n",
              "      fill: #D2E3FC;\n",
              "    }\n",
              "\n",
              "    [theme=dark] .colab-df-convert:hover {\n",
              "      background-color: #434B5C;\n",
              "      box-shadow: 0px 1px 3px 1px rgba(0, 0, 0, 0.15);\n",
              "      filter: drop-shadow(0px 1px 2px rgba(0, 0, 0, 0.3));\n",
              "      fill: #FFFFFF;\n",
              "    }\n",
              "  </style>\n",
              "\n",
              "      <script>\n",
              "        const buttonEl =\n",
              "          document.querySelector('#df-01b0deaf-9f0b-4f45-b4b9-b370ca428e7e button.colab-df-convert');\n",
              "        buttonEl.style.display =\n",
              "          google.colab.kernel.accessAllowed ? 'block' : 'none';\n",
              "\n",
              "        async function convertToInteractive(key) {\n",
              "          const element = document.querySelector('#df-01b0deaf-9f0b-4f45-b4b9-b370ca428e7e');\n",
              "          const dataTable =\n",
              "            await google.colab.kernel.invokeFunction('convertToInteractive',\n",
              "                                                     [key], {});\n",
              "          if (!dataTable) return;\n",
              "\n",
              "          const docLinkHtml = 'Like what you see? Visit the ' +\n",
              "            '<a target=\"_blank\" href=https://colab.research.google.com/notebooks/data_table.ipynb>data table notebook</a>'\n",
              "            + ' to learn more about interactive tables.';\n",
              "          element.innerHTML = '';\n",
              "          dataTable['output_type'] = 'display_data';\n",
              "          await google.colab.output.renderOutput(dataTable, element);\n",
              "          const docLink = document.createElement('div');\n",
              "          docLink.innerHTML = docLinkHtml;\n",
              "          element.appendChild(docLink);\n",
              "        }\n",
              "      </script>\n",
              "    </div>\n",
              "  </div>\n",
              "  "
            ],
            "text/plain": [
              "      INTENSIVE  NEWSITEID  RISK10YRS  ...  STATIN  SBPTERTILE  EVENT_PRIMARY\n",
              "0       Regular       74.0  29.732061  ...    True           3          False\n",
              "1       Regular        8.0  29.677619  ...    True           2          False\n",
              "2     Intensive       25.0  17.443819  ...   False           2          False\n",
              "3       Regular       96.0   8.627849  ...   False           1          False\n",
              "4     Intensive       42.0  23.751437  ...   False           1          False\n",
              "...         ...        ...        ...  ...     ...         ...            ...\n",
              "8741    Regular      102.0  10.896486  ...    True           2          False\n",
              "8742    Regular       98.0   8.646088  ...    True           1          False\n",
              "8743    Regular       99.0  24.191491  ...    True           2          False\n",
              "8744  Intensive       15.0  20.354619  ...   False           3          False\n",
              "8745  Intensive       74.0   7.459888  ...    True           3          False\n",
              "\n",
              "[8746 rows x 30 columns]"
            ]
          },
          "metadata": {},
          "execution_count": 3
        }
      ],
      "source": [
        "df"
      ]
    },
    {
      "cell_type": "markdown",
      "metadata": {
        "id": "CK9yp2Y68uyy"
      },
      "source": [
        "# **Cleaning and Transforming the data**"
      ]
    },
    {
      "cell_type": "markdown",
      "metadata": {
        "id": "pXJHXemYW21Y"
      },
      "source": [
        "First, let's observe the distribution of the labels in the data."
      ]
    },
    {
      "cell_type": "code",
      "execution_count": null,
      "metadata": {
        "colab": {
          "base_uri": "https://localhost:8080/"
        },
        "id": "66DKbUCwda6O",
        "outputId": "2681eb5f-a28a-4d10-9aaa-01f03736e03d"
      },
      "outputs": [
        {
          "output_type": "execute_result",
          "data": {
            "text/plain": [
              "False    8207\n",
              "True      539\n",
              "Name: EVENT_PRIMARY, dtype: int64"
            ]
          },
          "metadata": {},
          "execution_count": 4
        }
      ],
      "source": [
        "# Check if the data is balanced\n",
        "df[\"EVENT_PRIMARY\"].value_counts()"
      ]
    },
    {
      "cell_type": "markdown",
      "metadata": {
        "id": "uqc2sGR6W9yS"
      },
      "source": [
        "Now, we need to replace the categorical values with numerical values."
      ]
    },
    {
      "cell_type": "code",
      "execution_count": null,
      "metadata": {
        "id": "LBjsa6oU8M_M"
      },
      "outputs": [],
      "source": [
        "# Replace False by 0 and True by 1\n",
        "df.replace({False: 0, True: 1}, inplace=True)"
      ]
    },
    {
      "cell_type": "markdown",
      "metadata": {
        "id": "ybB8a-WAXxfQ"
      },
      "source": [
        "And check what are the possible values for the rest of the categorical columns, Replace those values with numerical values."
      ]
    },
    {
      "cell_type": "code",
      "execution_count": null,
      "metadata": {
        "colab": {
          "base_uri": "https://localhost:8080/"
        },
        "id": "vTMYPrlW8M9K",
        "outputId": "47bbe4e1-7563-4da4-f228-d4aad82a8ef3"
      },
      "outputs": [
        {
          "output_type": "stream",
          "name": "stdout",
          "text": [
            "Intensive column values: {'Regular', 'Intensive'}\n",
            "Race4 column values: {'OTHER', 'WHITE', 'HISPANIC', 'BLACK'}\n"
          ]
        }
      ],
      "source": [
        "print(\"Intensive column values:\",set(df[\"INTENSIVE\"].values))\n",
        "print(\"Race4 column values:\",set(df[\"RACE4\"].values))\n"
      ]
    },
    {
      "cell_type": "code",
      "execution_count": null,
      "metadata": {
        "id": "pgnpuW1E-Ciy"
      },
      "outputs": [],
      "source": [
        "df.replace({'Intensive': 0, 'Regular': 1}, inplace=True)\n",
        "df.replace({'BLACK': 0, 'HISPANIC': 1,'OTHER':2,'WHITE':3}, inplace=True)"
      ]
    },
    {
      "cell_type": "markdown",
      "metadata": {
        "id": "aBZHWm_uYRFC"
      },
      "source": [
        "Extract X - all the columns except 'EVENT_PRIMARY'(labels) and 'NEWSITEID' (identifier).\n",
        "\n",
        "Extract y - the label column."
      ]
    },
    {
      "cell_type": "code",
      "execution_count": null,
      "metadata": {
        "id": "MBkQCCn7_1tD"
      },
      "outputs": [],
      "source": [
        "y = df['EVENT_PRIMARY']\n"
      ]
    },
    {
      "cell_type": "code",
      "execution_count": null,
      "metadata": {
        "id": "rURhpkhiAMvt"
      },
      "outputs": [],
      "source": [
        "X = df.drop(columns=['EVENT_PRIMARY','NEWSITEID'])"
      ]
    },
    {
      "cell_type": "markdown",
      "metadata": {
        "id": "cGxZnrJLYfEa"
      },
      "source": [
        "Check that there are no null values in the data."
      ]
    },
    {
      "cell_type": "code",
      "execution_count": null,
      "metadata": {
        "colab": {
          "base_uri": "https://localhost:8080/"
        },
        "id": "leDkB_Mh-Ppp",
        "outputId": "ebf261e6-a892-44b0-c0c3-12384ba0fcf7"
      },
      "outputs": [
        {
          "output_type": "execute_result",
          "data": {
            "text/plain": [
              "INTENSIVE             0\n",
              "RISK10YRS             0\n",
              "INCLUSIONFRS          0\n",
              "SBP                   0\n",
              "DBP                   0\n",
              "N_AGENTS              0\n",
              "NOAGENTS              0\n",
              "SMOKE_3CAT            0\n",
              "ASPIRIN               0\n",
              "EGFR                  0\n",
              "SCREAT                0\n",
              "SUB_CKD               0\n",
              "RACE_BLACK            0\n",
              "AGE                   0\n",
              "FEMALE                0\n",
              "SUB_CVD               0\n",
              "SUB_CLINICALCVD       0\n",
              "SUB_SUBCLINICALCVD    0\n",
              "SUB_SENIOR            0\n",
              "RACE4                 0\n",
              "CHR                   0\n",
              "GLUR                  0\n",
              "HDL                   0\n",
              "TRR                   0\n",
              "UMALCR                0\n",
              "BMI                   0\n",
              "STATIN                0\n",
              "SBPTERTILE            0\n",
              "dtype: int64"
            ]
          },
          "metadata": {},
          "execution_count": 10
        }
      ],
      "source": [
        "X.isnull().sum()"
      ]
    },
    {
      "cell_type": "markdown",
      "metadata": {
        "id": "_a3wFnkB-yLl"
      },
      "source": [
        "**Now, We can split the data into train and test, and create scaler object**"
      ]
    },
    {
      "cell_type": "code",
      "execution_count": null,
      "metadata": {
        "id": "CE81vH-P-QIj"
      },
      "outputs": [],
      "source": [
        "# Split into train and test\n",
        "X_train, X_test, y_train, y_test = train_test_split(X, y, random_state=0)\n",
        "# Standardize the data to have a mean of ~0 and a variance of 1\n",
        "scaler = StandardScaler()\n",
        "final_dict = {}"
      ]
    },
    {
      "cell_type": "markdown",
      "metadata": {
        "id": "RZ36QMJS_PjF"
      },
      "source": [
        "# **First model - Logistic Regression**"
      ]
    },
    {
      "cell_type": "markdown",
      "metadata": {
        "id": "ajiAEcgoYslZ"
      },
      "source": [
        "Create the Logistic Regression model, create the pipeline and fit the"
      ]
    },
    {
      "cell_type": "code",
      "execution_count": null,
      "metadata": {
        "colab": {
          "base_uri": "https://localhost:8080/"
        },
        "id": "Haxr2icTXNIi",
        "outputId": "a355ebbf-5ce1-4b83-f7cc-6f5281b586cd"
      },
      "outputs": [
        {
          "output_type": "stream",
          "name": "stdout",
          "text": [
            "Best parameters for the model:  {'logisticReg__C': 0.001, 'logisticReg__max_iter': 1000, 'logisticReg__penalty': 'l2'}\n"
          ]
        }
      ],
      "source": [
        "lr = LogisticRegression(random_state=0)\n",
        "# create pipeline with the scaler, SMOTE and the logistic regression model\n",
        "pipeline_lr = Pipeline(steps=[(\"scaler\",scaler),('sampling', SMOTE()),(\"logisticReg\",lr)])\n",
        "\n",
        "grid={\"logisticReg__C\":[10**val for val in np.arange(-5, 5, dtype=float)],\n",
        "      \"logisticReg__penalty\":[\"none\",\"l2\"],\n",
        "      \"logisticReg__max_iter\": [1000, 2000, 5000, 10000]}\n",
        "\n",
        "# create the cross validation object\n",
        "lr_cv=GridSearchCV(pipeline_lr,grid,scoring='accuracy',cv=3)\n",
        "lr_cv.fit(X_train,y_train)\n",
        "\n",
        "# choosing the best estimator\n",
        "lr_model=lr_cv.best_estimator_\n",
        "print(\"Best parameters for the model: \",lr_cv.best_params_)"
      ]
    },
    {
      "cell_type": "code",
      "execution_count": null,
      "metadata": {
        "id": "sJFgCqIp-7Oa"
      },
      "outputs": [],
      "source": [
        "# fit the chosen model on the train data\n",
        "start = time.time()\n",
        "lr_model.fit(X_train, y_train)\n",
        "fit = time.time()"
      ]
    },
    {
      "cell_type": "markdown",
      "metadata": {
        "id": "RQaigSKtY9Kx"
      },
      "source": [
        "Predict the X train to measure the performance of the model on the train data."
      ]
    },
    {
      "cell_type": "code",
      "execution_count": null,
      "metadata": {
        "colab": {
          "base_uri": "https://localhost:8080/"
        },
        "id": "RAVt3BUdMff1",
        "outputId": "621fc3d5-dfe4-4fc2-ad27-dad213741385"
      },
      "outputs": [
        {
          "output_type": "stream",
          "name": "stdout",
          "text": [
            "Train result:\n",
            "True positive rate: 257 \n",
            "True negative rate: 4212 \n",
            "False negative rate: 147 \n",
            "False positive rate: 1943 \n",
            "Accuracy: 0.673439700869021 \n",
            "Specificity: 0.6843216896831844 \n",
            "Fit time: 0.06823515892028809\n"
          ]
        }
      ],
      "source": [
        "final_dict['LR'] = {}\n",
        "y_pred_lr = lr_model.predict(X_train)\n",
        "# extract the confusion matrix measures\n",
        "tn, fp, fn, tp = confusion_matrix(y_train, y_pred_lr).ravel()\n",
        "# extract mean accuracy from the cv\n",
        "acc = np.mean(lr_cv.cv_results_['mean_test_score'])\n",
        "specificity = tn/(tn+fp)\n",
        "fit_time = fit-start\n",
        "final_dict['LR']['fit_time'] = fit_time\n",
        "print(\"Train result:\")\n",
        "print(\"True positive rate:\", tp, \"\\nTrue negative rate:\",tn, \"\\nFalse negative rate:\",fn, \"\\nFalse positive rate:\",fp,\"\\nAccuracy:\",acc, \"\\nSpecificity:\",\n",
        "      specificity,\"\\nFit time:\",fit_time)"
      ]
    },
    {
      "cell_type": "markdown",
      "metadata": {
        "id": "HE7mISE-ZDgB"
      },
      "source": [
        "Predict the X test for comaprison."
      ]
    },
    {
      "cell_type": "code",
      "execution_count": null,
      "metadata": {
        "colab": {
          "base_uri": "https://localhost:8080/"
        },
        "id": "eERwmlM4BnIs",
        "outputId": "3ab049e4-aa57-44ea-b59f-e2ad18cea1b2"
      },
      "outputs": [
        {
          "output_type": "stream",
          "name": "stdout",
          "text": [
            "Test result:\n",
            "True positive rate: 72 \n",
            "True negative rate: 1415 \n",
            "False negative rate: 63 \n",
            "False positive rate: 637 \n",
            "Accuracy: 0.6799268404206675 \n",
            "Specificity: 0.6895711500974658 \n",
            "Prediction time: 0.012643098831176758\n"
          ]
        }
      ],
      "source": [
        "# prediction on the test set\n",
        "start_p = time.time()\n",
        "y_pred_lr = lr_model.predict(X_test)\n",
        "pred = time.time()\n",
        "pred_time = pred-start_p\n",
        "# extract the confusion matrix measures\n",
        "tn, fp, fn, tp = confusion_matrix(y_test, y_pred_lr).ravel()\n",
        "acc = accuracy_score(y_test, y_pred_lr)\n",
        "specificity = tn/(tn+fp)\n",
        "final_dict['LR']['accuracy'] = acc\n",
        "final_dict['LR']['specificity'] = specificity\n",
        "final_dict['LR']['pred_time'] = pred_time\n",
        "print(\"Test result:\")\n",
        "print(\"True positive rate:\", tp, \"\\nTrue negative rate:\",tn, \"\\nFalse negative rate:\",fn, \"\\nFalse positive rate:\",fp,\"\\nAccuracy:\",acc, \"\\nSpecificity:\",specificity,\"\\nPrediction time:\",pred_time)"
      ]
    },
    {
      "cell_type": "markdown",
      "metadata": {
        "id": "NtzfMBxhNjOk"
      },
      "source": [
        "**Check overfitting:**"
      ]
    },
    {
      "cell_type": "code",
      "execution_count": null,
      "metadata": {
        "id": "oeafhFJ3Ni8V"
      },
      "outputs": [],
      "source": [
        "acc_lr_train = []\n",
        "acc_lr_test = []\n",
        "# for every c in range\n",
        "for c in np.arange(-5, 5, dtype=float):\n",
        "  # create logistic regression model with this c parameter\n",
        "  lr = LogisticRegression(C=10**(c), random_state=0,max_iter=2000, penalty='l2')\n",
        "  # create the pipeline\n",
        "  pipeline_lr = Pipeline(steps=[(\"scaler\",scaler),('sampling', SMOTE()),(\"logisticReg\",lr)])\n",
        "  pipeline_lr.fit(X_train, y_train)\n",
        "  # extract the predicted labels for the train and test\n",
        "  y_train_lr = pipeline_lr.predict(X_train)\n",
        "  y_test_lr = pipeline_lr.predict(X_test)\n",
        "  # calculate the accuracy for the train and the test and add to the lists\n",
        "  acc_train = accuracy_score(y_train, y_train_lr)\n",
        "  acc_test = accuracy_score(y_test, y_test_lr)\n",
        "  acc_lr_train.append(acc_train)\n",
        "  acc_lr_test.append(acc_test)"
      ]
    },
    {
      "cell_type": "code",
      "execution_count": null,
      "metadata": {
        "colab": {
          "base_uri": "https://localhost:8080/",
          "height": 295
        },
        "id": "zRa1zJ7XRDxO",
        "outputId": "ddb3a859-bb98-4859-d90a-cd738399d6d9"
      },
      "outputs": [
        {
          "output_type": "display_data",
          "data": {
            "image/png": "[encoded data removed]",
            "text/plain": [
              "<Figure size 432x288 with 1 Axes>"
            ]
          },
          "metadata": {
            "needs_background": "light"
          }
        }
      ],
      "source": [
        "# plot the graph\n",
        "vals = [str(10**val) for val in np.arange(-5, 5, dtype=float)]\n",
        "plt.plot(vals , acc_lr_train,label = \"Train\")\n",
        "plt.plot(vals, acc_lr_test,label = \"Test\")\n",
        "plt.legend()\n",
        "plt.title(\"The change in accuracy according to the value of C parameter\")\n",
        "plt.xlabel('C parameter')\n",
        "plt.ylabel('Accuracy')\n",
        "plt.show()"
      ]
    },
    {
      "cell_type": "markdown",
      "metadata": {
        "id": "n8NWL22KW2sN"
      },
      "source": [
        "### **Logistic Regression - Summary**\n",
        "We chose to use logistic regression model because of the following reasons:\n",
        "1. Logistic regression is valuable for predicting the likelihood of an event. It helps determine the probabilities between any two classes. We chose this model because we need to predict the primary event - whether the patient died or had a cardiovascular event.\n",
        "2. Logistic regression makes no assumptions about distributions of classes in feature space.\n",
        "3. Logistic regression model has good accuracy for smaller datasets as in our dataset - approximately 9000 samples (for both train and test).\n",
        "**Configurations:**\n",
        "\n",
        "* random_state - We chose to use a constant random parameter for all the models we compare.\n",
        "* C - We use C parameter in order to check if the model is overfitting. For this parameter, if we choose small values, we increase the regularization strength which will create simple models which underfit the data.\n",
        "* penalty - We chose this parameter in order to control the regularization of the model and avoid overfitting.\n",
        "* max_iter - We chose to check what is the optimal number of iterations for this model, with this data. \n",
        "\n",
        "**Overfitting:**\n",
        "\n",
        "As we can see in the graph, for small values of parameter C, the model tends to overfit, but from certain point, the model stopped to overfit, and the test results improves faster than the train result.\n",
        "\n",
        "In addition to that, we used SMOTE, a method which supposed to do imbalance sampling. Because as we saw in the data exploration in the beginning of this notebook, the data is highly imbalanced.\n",
        "\n",
        "**Final results:**\n",
        "* Prediction time: 0.0156\n",
        "* True positive rate: 72 \n",
        "* True negative rate: 1401 \n",
        "* False negative rate: 63 \n",
        "* False positive rate: 651 \n",
        "* **Accuracy: 0.6735253772290809**\n",
        "* **Specificity: 0.6827485380116959**\n"
      ]
    },
    {
      "cell_type": "markdown",
      "metadata": {
        "id": "xuAIPNnEEjwM"
      },
      "source": [
        "# **Second model - Ensemble**"
      ]
    },
    {
      "cell_type": "markdown",
      "metadata": {
        "id": "_k1JaztVai6K"
      },
      "source": [
        "Create the Gradient Boosting Classifier model, create the pipeline and fit the"
      ]
    },
    {
      "cell_type": "code",
      "execution_count": null,
      "metadata": {
        "id": "pVkDYX4VbPcq",
        "colab": {
          "base_uri": "https://localhost:8080/"
        },
        "outputId": "a235e201-c39c-4708-d1a0-4a9fc71c7847"
      },
      "outputs": [
        {
          "output_type": "stream",
          "name": "stdout",
          "text": [
            "Best parameters for the model:  {'GradientBoostingClassifier__max_depth': 10, 'GradientBoostingClassifier__max_features': 28, 'GradientBoostingClassifier__min_samples_leaf': 5, 'GradientBoostingClassifier__min_samples_split': 8, 'GradientBoostingClassifier__n_estimators': 100}\n"
          ]
        }
      ],
      "source": [
        "clf = GradientBoostingClassifier(random_state=0)\n",
        "# create pipeline with the scaler, SMOTE and the logistic regression model\n",
        "pipeline_clf = Pipeline(steps=[(\"scaler\",scaler),('sampling', SMOTE()),(\"GradientBoostingClassifier\",clf)])\n",
        "\n",
        "grid = {'GradientBoostingClassifier__max_depth': [1,3,5,10],\n",
        "    'GradientBoostingClassifier__max_features': [None,3, 10, 20,28],\n",
        "    'GradientBoostingClassifier__min_samples_leaf': [None,3, 4, 5],\n",
        "    'GradientBoostingClassifier__min_samples_split': [None,8, 10, 12],\n",
        "    'GradientBoostingClassifier__n_estimators': [10,15,30,50,100]\n",
        "}      \n",
        "# create the cross validation object\n",
        "clf_cv=GridSearchCV(pipeline_clf,grid,scoring='accuracy',cv=3)\n",
        "clf_cv.fit(X_train,y_train)\n",
        "\n",
        "# choosing the best estimator\n",
        "clf_model=clf_cv.best_estimator_\n",
        "print(\"Best parameters for the model: \",clf_cv.best_params_)"
      ]
    },
    {
      "cell_type": "code",
      "execution_count": null,
      "metadata": {
        "id": "8XZDQoc5Dynk"
      },
      "outputs": [],
      "source": [
        "# extracting the best parameters for the model, but using max_depth=1 , fit the chosen model on the train data\n",
        "start = time.time()\n",
        "gbc = GradientBoostingClassifier(n_estimators=100, learning_rate=0.5, max_depth=1, random_state=0,min_samples_leaf= 4,min_samples_split=8)\n",
        "pipeline_clf = Pipeline(steps=[(\"scaler\",scaler),('sampling', SMOTE()),(\"GradientBoostingClassifier\",gbc)])\n",
        "pipeline_clf.fit(X_train, y_train)\n",
        "fit = time.time()"
      ]
    },
    {
      "cell_type": "markdown",
      "metadata": {
        "id": "CiXXt2W-ania"
      },
      "source": [
        "Predict the X train to measure the performance of the model on the train data."
      ]
    },
    {
      "cell_type": "code",
      "execution_count": null,
      "metadata": {
        "id": "sIOjC0A0M72B",
        "colab": {
          "base_uri": "https://localhost:8080/"
        },
        "outputId": "8a43fae9-eba4-41d3-ea80-683f25f9064d"
      },
      "outputs": [
        {
          "output_type": "stream",
          "name": "stdout",
          "text": [
            "Train result:\n",
            "True positive rate: 76 \n",
            "True negative rate: 5854 \n",
            "False negative rate: 328 \n",
            "False positive rate: 301 \n",
            "Accuracy: 0.8458717845431672 \n",
            "Specificity: 0.9510966693744923 \n",
            "Fit time: 2.2751364707946777\n"
          ]
        }
      ],
      "source": [
        "final_dict['GB'] = {}\n",
        "y_pred_clf = pipeline_clf.predict(X_train)\n",
        "# extract the confusion matrix measures\n",
        "tn, fp, fn, tp = confusion_matrix(y_train, y_pred_clf).ravel()\n",
        "# extract mean accuracy from the cv\n",
        "acc = np.nanmean(clf_cv.cv_results_['mean_test_score'])\n",
        "specificity = tn/(tn+fp)\n",
        "fit_time = fit-start\n",
        "final_dict['GB']['fit_time'] = fit_time\n",
        "print(\"Train result:\")\n",
        "print(\"True positive rate:\", tp, \"\\nTrue negative rate:\",tn, \"\\nFalse negative rate:\",fn, \"\\nFalse positive rate:\",fp,\"\\nAccuracy:\",acc, \"\\nSpecificity:\",\n",
        "      specificity,\"\\nFit time:\",fit_time)"
      ]
    },
    {
      "cell_type": "markdown",
      "metadata": {
        "id": "3_Fd4Z2laqKo"
      },
      "source": [
        "Predict the X test for comaprison."
      ]
    },
    {
      "cell_type": "code",
      "execution_count": null,
      "metadata": {
        "id": "4Y2kUdPZFT43",
        "colab": {
          "base_uri": "https://localhost:8080/"
        },
        "outputId": "acfa9438-9385-464b-d35e-b6236c7071a0"
      },
      "outputs": [
        {
          "output_type": "stream",
          "name": "stdout",
          "text": [
            "Test result:\n",
            "True positive rate: 13 \n",
            "True negative rate: 1945 \n",
            "False negative rate: 122 \n",
            "False positive rate: 107 \n",
            "Accuracy: 0.8952903520804756 \n",
            "Specificity: 0.9478557504873294 \n",
            "Prediction time: 0.009197711944580078\n"
          ]
        }
      ],
      "source": [
        "# prediction on the test set\n",
        "start_p = time.time()\n",
        "y_pred_clf = pipeline_clf.predict(X_test)\n",
        "pred = time.time()\n",
        "pred_time = pred-start_p\n",
        "# extract the confusion matrix measures\n",
        "tn, fp, fn, tp = confusion_matrix(y_test, y_pred_clf).ravel()\n",
        "acc = accuracy_score(y_test, y_pred_clf)\n",
        "specificity = tn/(tn+fp)\n",
        "final_dict['GB']['accuracy'] = acc\n",
        "final_dict['GB']['specificity'] = specificity\n",
        "final_dict['GB']['pred_time'] = pred_time\n",
        "\n",
        "print(\"Test result:\")\n",
        "print(\"True positive rate:\", tp, \"\\nTrue negative rate:\",tn, \"\\nFalse negative rate:\",fn, \"\\nFalse positive rate:\",fp,\"\\nAccuracy:\",acc, \"\\nSpecificity:\",specificity,\n",
        "      \"\\nPrediction time:\",pred_time)"
      ]
    },
    {
      "cell_type": "markdown",
      "metadata": {
        "id": "E-BaOX6oRvck"
      },
      "source": [
        "**Check overfitting:**"
      ]
    },
    {
      "cell_type": "code",
      "execution_count": null,
      "metadata": {
        "id": "oirwHfvpRuuV"
      },
      "outputs": [],
      "source": [
        "acc_clf_train = []\n",
        "acc_clf_test = []\n",
        "# for each number of estimators\n",
        "est = [5,10,15,20,50,100,200,400,1000]\n",
        "for n in est:\n",
        "  # create gradient boosting classifier with the current number of estimators\n",
        "  gbc = GradientBoostingClassifier(n_estimators=n, learning_rate=0.5, max_depth=1, random_state=0,min_samples_leaf= 4,min_samples_split=8)\n",
        "  pipeline_clf = Pipeline(steps=[(\"scaler\",scaler),('sampling', SMOTE()),(\"GradientBoostingClassifier\",gbc)])\n",
        "  pipeline_clf.fit(X_train, y_train)\n",
        "  # extract the predicted labels for the train and test\n",
        "  y_train_clf = pipeline_clf.predict(X_train)\n",
        "  y_test_clf = pipeline_clf.predict(X_test)\n",
        "  # calculate the accuracy for the train and the test and add to the lists\n",
        "  acc_train = accuracy_score(y_train, y_train_clf)\n",
        "  acc_test = accuracy_score(y_test, y_test_clf)\n",
        "  acc_clf_train.append(acc_train)\n",
        "  acc_clf_test.append(acc_test)"
      ]
    },
    {
      "cell_type": "code",
      "execution_count": null,
      "metadata": {
        "id": "A9G0g_lpSbad",
        "colab": {
          "base_uri": "https://localhost:8080/",
          "height": 295
        },
        "outputId": "d4249ff3-6ea5-4987-a373-96ed1c6a14fe"
      },
      "outputs": [
        {
          "output_type": "display_data",
          "data": {
            "image/png": "[encoded data removed]",
            "text/plain": [
              "<Figure size 432x288 with 1 Axes>"
            ]
          },
          "metadata": {
            "needs_background": "light"
          }
        }
      ],
      "source": [
        "# plot the graph\n",
        "vals = [str(val) for val in est]\n",
        "plt.plot(vals , acc_clf_train,label = \"Train\")\n",
        "plt.plot(vals, acc_clf_test,label = \"Test\")\n",
        "plt.legend()\n",
        "plt.title(\"The change in accuracy according to the value of number of estimator\")\n",
        "plt.xlabel('Number of estimators')\n",
        "plt.ylabel('Accuracy')\n",
        "plt.show()"
      ]
    },
    {
      "cell_type": "markdown",
      "metadata": {
        "id": "kI9JyJ24ckTe"
      },
      "source": [
        "### **Gradient Boosting Classifier - Summary**\n",
        "We chose to use Gradient Boosting Classifier because of the following reasons:\n",
        "1. Gradient Boosting performs well when you have unbalanced data such as in real time risk assessment. We can see that the data is unbalanced as we presented in \"Cleaning and Transforming the data\" section.\n",
        "2. Usually provides high accuracy.\n",
        "3. Has better results than Random Forest and AdaBoost.\n",
        "\n",
        "**Configurations:**\n",
        "\n",
        "* random_state - We chose to use constant random parameter for all the models we compare.\n",
        "* n_estimators - We chose low number of estimators in order to avoid overfitting (Although the model supposed to be robust to over-fitting).\n",
        "* learning_rate - We wanted to choose a value of alpha that is not too slow, which will cause a slow learning process, however, we didn't want alpha to be too big as well. This is the reason we decided to use 0.5 as the value of alpha.\n",
        "* max_depth - In order to avoid overfitting, we chose that each tree will be in max depth of 1. Which means that every tree in the ensemble will be in depth of 1.\n",
        "\n",
        "**Overfitting:**\n",
        "\n",
        "As we can see in the graph, the accuracy of the train predictions is always higher than the accuracy of the test predictions, but the gap is not significant.\n",
        "Although in the cross validation, the best parameters for the max_depth, we will keep max_depth=1 because we want to avoid this overfitting.\n",
        "\n",
        "\n",
        "In addition to that we used (again) the SMOTE method which helps us creating models for imbalanced data. \n",
        "\n",
        "**Final results:**\n",
        "\n",
        "* Prediction time: 0.0067\n",
        "* True positive rate: 14\n",
        "* True negative rate: 1941 \n",
        "* False negative rate: 121 \n",
        "* False positive rate: 111 \n",
        "* **Accuracy: 0.8939186099679927**\n",
        "* **Specificity: 0.945906432748538**\n"
      ]
    },
    {
      "cell_type": "markdown",
      "metadata": {
        "id": "FM23QP0KGGhl"
      },
      "source": [
        "# **Third model - Deep Learning**"
      ]
    },
    {
      "cell_type": "markdown",
      "metadata": {
        "id": "ldDUyeiuaueR"
      },
      "source": [
        "Create the Multilayer Perceptron model, create the pipeline and fit the"
      ]
    },
    {
      "cell_type": "code",
      "execution_count": null,
      "metadata": {
        "id": "YZc8pMQacx6b",
        "colab": {
          "base_uri": "https://localhost:8080/"
        },
        "outputId": "e3b21903-611e-4528-8de1-143c6d20fb27"
      },
      "outputs": [
        {
          "output_type": "stream",
          "name": "stdout",
          "text": [
            "Best parameters for the model:  {'MLPClassifier__alpha': 0.001, 'MLPClassifier__batch_size': 300, 'MLPClassifier__max_iter': 1500}\n"
          ]
        }
      ],
      "source": [
        "mlp = MLPClassifier(random_state=0,solver='adam',hidden_layer_sizes=(20, ))\n",
        "# create pipeline with the scaler and the MLPClassifier model\n",
        "pipeline_mlp = Pipeline(steps=[(\"scaler\",scaler),('sampling', SMOTE()),(\"MLPClassifier\",mlp)])\n",
        "\n",
        "\n",
        "grid = {'MLPClassifier__batch_size':[100,200,300,400,600,800,1000],\n",
        "        'MLPClassifier__max_iter': [500,1000,1500],\n",
        "        'MLPClassifier__alpha': 10.0 ** -np.arange(1, 7)}\n",
        "\n",
        "mlp_cv=GridSearchCV(pipeline_mlp,grid,scoring='accuracy',cv=3)\n",
        "mlp_cv.fit(X_train,y_train)\n",
        "\n",
        "# choosing the best estimator\n",
        "mlp_model=mlp_cv.best_estimator_\n",
        "print(\"Best parameters for the model: \",mlp_cv.best_params_)"
      ]
    },
    {
      "cell_type": "code",
      "execution_count": null,
      "metadata": {
        "id": "DOv-tdfmLJt4"
      },
      "outputs": [],
      "source": [
        "# fit the chosen model on the train data\n",
        "start = time.time()\n",
        "mlp_model.fit(X_train, y_train)\n",
        "fit = time.time()\n",
        "fit_time = fit-start"
      ]
    },
    {
      "cell_type": "markdown",
      "metadata": {
        "id": "Ao5Aw6pfa03w"
      },
      "source": [
        "Predict the X train to measure the performance of the model on the train data."
      ]
    },
    {
      "cell_type": "code",
      "execution_count": null,
      "metadata": {
        "id": "Q0yK72PcNRTk",
        "colab": {
          "base_uri": "https://localhost:8080/"
        },
        "outputId": "a7dd38e0-bdb3-4ba8-c311-472c1a406393"
      },
      "outputs": [
        {
          "output_type": "stream",
          "name": "stdout",
          "text": [
            "Train results:\n",
            "True positive rate: 317 \n",
            "True negative rate: 5379 \n",
            "False negative rate: 87 \n",
            "False positive rate: 776 \n",
            "Accuracy: 0.8206133143979087 \n",
            "Specificity: 0.873923639317628 \n",
            "Fit time: 13.491843938827515\n"
          ]
        }
      ],
      "source": [
        "final_dict['MLP'] = {}\n",
        "y_pred_mlp = mlp_model.predict(X_train)\n",
        "# extract the confusion matrix measures\n",
        "tn, fp, fn, tp = confusion_matrix(y_train, y_pred_mlp).ravel()\n",
        "# extract mean accuracy from the cv\n",
        "acc = acc = np.mean(mlp_cv.cv_results_['mean_test_score'])\n",
        "specificity = tn/(tn+fp)\n",
        "final_dict['MLP']['fit_time'] = fit_time\n",
        "print(\"Train results:\")\n",
        "print(\"True positive rate:\", tp, \"\\nTrue negative rate:\",tn, \"\\nFalse negative rate:\",fn, \"\\nFalse positive rate:\",fp,\"\\nAccuracy:\",acc, \"\\nSpecificity:\",\n",
        "      specificity,\"\\nFit time:\",fit_time)"
      ]
    },
    {
      "cell_type": "markdown",
      "metadata": {
        "id": "kY4g58bQa3vQ"
      },
      "source": [
        "Predict the X test for comaprison."
      ]
    },
    {
      "cell_type": "code",
      "execution_count": null,
      "metadata": {
        "id": "hr7NJUO_Ghb7",
        "colab": {
          "base_uri": "https://localhost:8080/"
        },
        "outputId": "e2069ffe-a001-44f8-fa62-26a201086769"
      },
      "outputs": [
        {
          "output_type": "stream",
          "name": "stdout",
          "text": [
            "Test results:\n",
            "True positive rate: 36 \n",
            "True negative rate: 1698 \n",
            "False negative rate: 99 \n",
            "False positive rate: 354 \n",
            "Accuracy: 0.7928669410150891 \n",
            "Specificity: 0.827485380116959 \n",
            "Prediction time: 0.009119987487792969\n"
          ]
        }
      ],
      "source": [
        "# prediction on the test set\n",
        "start_p = time.time()\n",
        "y_pred_mlp = mlp_model.predict(X_test)\n",
        "pred = time.time()\n",
        "# extract the confusion matrix measures\n",
        "tn, fp, fn, tp = confusion_matrix(y_test, y_pred_mlp).ravel()\n",
        "acc = accuracy_score(y_test, y_pred_mlp)\n",
        "specificity = tn/(tn+fp)\n",
        "pred_time = pred-start_p\n",
        "final_dict['MLP']['accuracy'] = acc\n",
        "final_dict['MLP']['specificity'] = specificity\n",
        "final_dict['MLP']['pred_time'] = pred_time\n",
        "print(\"Test results:\")\n",
        "print(\"True positive rate:\", tp, \"\\nTrue negative rate:\",tn, \"\\nFalse negative rate:\",fn, \"\\nFalse positive rate:\",fp,\"\\nAccuracy:\",acc, \"\\nSpecificity:\",specificity,\n",
        "      \"\\nPrediction time:\",pred_time)"
      ]
    },
    {
      "cell_type": "markdown",
      "metadata": {
        "id": "rT2He28BVA5l"
      },
      "source": [
        "**Check overfitting**"
      ]
    },
    {
      "cell_type": "code",
      "execution_count": null,
      "metadata": {
        "id": "TxbW6nAjHDFN"
      },
      "outputs": [],
      "source": [
        "acc_nn_train = []\n",
        "acc_nn_test = []\n",
        "time_nn_fit=[]\n",
        "est = [50,100,200,300,400,600,800,1000,2000,10000]\n",
        "for b in est:\n",
        "  # create multilayer perceptron model with the changing batch size\n",
        "  mlp = MLPClassifier(solver='adam', alpha=0.00001,hidden_layer_sizes=(20, ),max_iter=1000, random_state=0,batch_size=b)\n",
        "  pipeline_nn = Pipeline(steps=[(\"scaler\",scaler),('sampling', SMOTE()),(\"MLPClassifier\",mlp)])\n",
        "  start_p = time.time()\n",
        "  pipeline_nn.fit(X_train, y_train)\n",
        "  end_p = time.time()\n",
        "  # extract the predicted labels for the train and test\n",
        "  y_train_nn = pipeline_nn.predict(X_train)\n",
        "  y_test_nn = pipeline_nn.predict(X_test)\n",
        "  # calculate the accuracy for the train and the test and add to the lists\n",
        "  acc_train = accuracy_score(y_train, y_train_nn)\n",
        "  acc_test = accuracy_score(y_test, y_test_nn)\n",
        "  acc_nn_train.append(acc_train)\n",
        "  acc_nn_test.append(acc_test)\n",
        "  time_nn_fit.append(end_p-start_p)"
      ]
    },
    {
      "cell_type": "code",
      "execution_count": null,
      "metadata": {
        "id": "sCxtUYTFVU0P",
        "colab": {
          "base_uri": "https://localhost:8080/",
          "height": 295
        },
        "outputId": "48cdd427-d310-41f9-8269-20c06cc0eb1f"
      },
      "outputs": [
        {
          "output_type": "display_data",
          "data": {
            "image/png": "[encoded data removed]",
            "text/plain": [
              "<Figure size 432x288 with 1 Axes>"
            ]
          },
          "metadata": {
            "needs_background": "light"
          }
        }
      ],
      "source": [
        "# plot first graph - change in accuracy\n",
        "vals = [str(val) for val in est]\n",
        "plt.plot(vals , acc_nn_train,label = \"Train\")\n",
        "plt.plot(vals, acc_nn_test,label = \"Test\")\n",
        "plt.legend()\n",
        "plt.title(\"The change in accuracy according to the value of batch size\")\n",
        "plt.xlabel('Batch size')\n",
        "plt.ylabel('Accuracy')\n",
        "plt.show()\n"
      ]
    },
    {
      "cell_type": "code",
      "execution_count": null,
      "metadata": {
        "id": "JoBUpCy8ubTZ",
        "colab": {
          "base_uri": "https://localhost:8080/",
          "height": 295
        },
        "outputId": "6c61faa8-3bdb-4b2e-cf51-bc50017b9065"
      },
      "outputs": [
        {
          "output_type": "display_data",
          "data": {
            "image/png": "[encoded data removed]",
            "text/plain": [
              "<Figure size 432x288 with 1 Axes>"
            ]
          },
          "metadata": {
            "needs_background": "light"
          }
        }
      ],
      "source": [
        "# plot second graph - change in fit time\n",
        "vals = [str(val) for val in est]\n",
        "plt.plot(vals , time_nn_fit,label = \"Train\")\n",
        "plt.legend()\n",
        "plt.title(\"The change in fit time according to the value of batch size\")\n",
        "plt.xlabel('Batch size')\n",
        "plt.ylabel('Fit time')\n",
        "plt.show()\n"
      ]
    },
    {
      "cell_type": "markdown",
      "metadata": {
        "id": "sc797GUBk83q"
      },
      "source": [
        "### **Deep Learning - Summary**\n",
        "We chose to use Multilayer Perceptron because of the following reasons:\n",
        "1. The model can learn nonlinear functions and thus separate not linearly separable data.\n",
        "2. It provides quick predictions after training.\n",
        "\n",
        "**Configurations:**\n",
        "\n",
        "* random_state - We chose to use constant random parameter for all the models we compare.\n",
        "* solver - We chose 'adam' optimizer, because this is the only solver that converged over our data, but in addition to that, we learned in class that this is the best optimizer in most cases.\n",
        "* alpha - We chose small alpha in order to avoid overfitting, alpha represent the L2 penalty, which effects the coefficients of the model.\n",
        "* hidden_layer_sizes - The first element represent the number of neurons in first hidden layer, and second element represent the number of neurons in the second hidden layer. Thus we have 2 hidden layers with different number of nodes in each layer. In the first layer we chose 2/3 the size of the input layer, plus the size of the output layer.\n",
        "* batch_size - We see that for 200 the batch_size leads to the best accuracy, this effects the way the model learns the training data. \n",
        "\n",
        "**Overfitting:**\n",
        "\n",
        "The model overfit for all the batch size chosen, but we can also see that as the batch size increases the gap between the train and the test decreases. The model is still over fit, but we can conclude that the batch size have an effect on the results of this model.\n",
        "\n",
        "\n",
        "**Batch Size:**\n",
        "- **In general**: As we increase the batch size, the model will decrease the generalization error, although too large of a batch size will lead to poor generalization. \n",
        "Using small batch sizes, might cause faster convergence, but it will converge to a local optima. If we will use batch size that equal to the size of the dataset, we will converge to the global optima, but slower. \n",
        "- **In this task**: As we can see in the first graph, as we increase the batch size, the gap between the accuracy of the train and test slightly shrinks, this could indicate that the generalization error decreases. Also, it seems that since batch_size=200, the train and the test accuracy scores trend lines behavior is similar. Another interesting thing we can see in the second graph is that the fitting time is changing according to the change in batch size, but the trend is not stable.\n",
        "\n",
        "**Final results:**\n",
        "\n",
        "* Prediction time: 0.009119987487792969\n",
        "* True positive rate: 36\n",
        "* True negative rate: 1698  \n",
        "* False negative rate: 99\n",
        "* False positive rate: 354  \n",
        "* **Accuracy: 0.7928669410150891**\n",
        "* **Specificity: 0.827485380116959**\n",
        " \n",
        "\n",
        "\n"
      ]
    },
    {
      "cell_type": "markdown",
      "metadata": {
        "id": "3iuUdvVleGsZ"
      },
      "source": [
        "#**Comapring the 3 models**"
      ]
    },
    {
      "cell_type": "code",
      "execution_count": null,
      "metadata": {
        "id": "Qs3_MPE2VbuH",
        "colab": {
          "base_uri": "https://localhost:8080/",
          "height": 295
        },
        "outputId": "466653c8-7594-410a-e711-b0640e804c96"
      },
      "outputs": [
        {
          "output_type": "display_data",
          "data": {
            "image/png": "[encoded data removed]",
            "text/plain": [
              "<Figure size 432x288 with 1 Axes>"
            ]
          },
          "metadata": {
            "needs_background": "light"
          }
        }
      ],
      "source": [
        "# calculate roc curve for logistic regression model\n",
        "probs_lr = lr_model.predict_proba(X_test)[:,1]\n",
        "fpr_lr, tpr_lr, thresh = roc_curve(y_test, probs_lr)\n",
        "roc_auc_lr = metrics.auc(fpr_lr, tpr_lr)\n",
        "# calculate roc curve for gradient boosting classifier model\n",
        "probs_gb = clf_model.predict_proba(X_test)[:,1]\n",
        "fpr_gb, tpr_gb, thresh = roc_curve(y_test, probs_gb)\n",
        "roc_auc_gb = metrics.auc(fpr_gb, tpr_gb)\n",
        "# calculate roc curve for multilayer perceptron model\n",
        "probs_mlp = mlp_model.predict_proba(X_test)[:,1]\n",
        "fpr_mlp, tpr_mlp, thresh = metrics.roc_curve(y_test, probs_mlp)\n",
        "roc_auc_mlp = metrics.auc(fpr_mlp, tpr_mlp)\n",
        "\n",
        "# Plot the graph\n",
        "plt.title('ROC Curve')\n",
        "plt.plot(fpr_lr, tpr_lr, 'b', label = ' Logistic Regression: AUC = ' + str(round(roc_auc_lr,2)), color='#20B2AA')\n",
        "plt.plot(fpr_gb, tpr_gb, 'b', label = 'Gradient Boosting Classifier: AUC = ' + str(round(roc_auc_gb,2)), color ='#EE9572')\n",
        "plt.plot(fpr_mlp, tpr_mlp, 'b', label = 'Multilayer Perceptron: AUC = ' + str(round(roc_auc_mlp,2)), color ='#FFAEB9')\n",
        "plt.plot([0, 1], [0, 1],'p--')\n",
        "plt.xlim([0, 1])\n",
        "plt.ylim([0, 1])\n",
        "plt.ylabel('True Positive Rate')\n",
        "plt.xlabel('False Positive Rate')\n",
        "plt.legend()\n",
        "plt.show()"
      ]
    },
    {
      "cell_type": "code",
      "execution_count": null,
      "metadata": {
        "id": "6adJ_WjA1pgB",
        "colab": {
          "base_uri": "https://localhost:8080/"
        },
        "outputId": "e9fe276c-e6ce-4a88-e190-f08737b41e94"
      },
      "outputs": [
        {
          "output_type": "stream",
          "name": "stdout",
          "text": [
            "Model: LR\n",
            "---------------\n",
            "Accuracy: 0.6799268404206675\n",
            "Specificity: 0.6895711500974658\n",
            "Fit time: 0.06823515892028809\n",
            "Predict time: 0.012643098831176758\n",
            "---------------------------------\n",
            "Model: GB\n",
            "---------------\n",
            "Accuracy: 0.8952903520804756\n",
            "Specificity: 0.9478557504873294\n",
            "Fit time: 2.2751364707946777\n",
            "Predict time: 0.009197711944580078\n",
            "---------------------------------\n",
            "Model: MLP\n",
            "---------------\n",
            "Accuracy: 0.7928669410150891\n",
            "Specificity: 0.827485380116959\n",
            "Fit time: 13.491843938827515\n",
            "Predict time: 0.009119987487792969\n",
            "---------------------------------\n"
          ]
        }
      ],
      "source": [
        "for key in final_dict:\n",
        "  print(\"Model:\",key)\n",
        "  print(\"---------------\")\n",
        "  print(\"Accuracy:\",final_dict[key]['accuracy'])\n",
        "  print(\"Specificity:\",final_dict[key]['specificity'])\n",
        "  print(\"Fit time:\",final_dict[key]['fit_time'])\n",
        "  print(\"Predict time:\",final_dict[key]['pred_time'])\n",
        "  print(\"---------------------------------\")"
      ]
    },
    {
      "cell_type": "markdown",
      "metadata": {
        "id": "d0GYr2e76Zzk"
      },
      "source": [
        "# **Final Summary**\n",
        "- We can see that for all the models that we have checked, the result that we received were high , both in the accuracy and in the specificity. But all of the models had also a tendency to overfit. In order to compare between them we decided to look on the parameters we explored for each model seperatly like Accuracy and Overfit, but also compare them in new parameters like ROC curve.\n",
        "- When we look of the overfitting of all the models:\n",
        "\n",
        "    a. We can see that the Logistic Regression overfits only for lower values of the C parameter , the accuracy of this model is the lowest, but the AUC value for this model is the highest, which can indicates good performance on future data.\n",
        "\n",
        "    b.We can see for the Gardient Boosting model that it is not overfitting throughout almost all of the numbers of estimators we have checked and we can consider using this model for our data.\n",
        "\n",
        "    c. We can see that for the Multilayer Perceptron model, for lower values of batch sizes the model tends to overfit, but in general, for all batch sizes, we saw that the model overfit the training data.\n",
        "\n",
        "- In order to decide which model is better for our data set we decided to look at the ROC curve & AUC parameters for each model. As we learned in class the best model is the one with the highest AUC score because it means its preformances are the best for this data set. We can see that for most values, the logistic regression model, has better performace than the other 2 models. \n",
        "\n",
        "- As we learned in class, there is a principal called \"No free lunch\". The theorem states that all optimization algorithms perform equally well when their performance is averaged across all possible problems. We can see that there is difference between the accuracy results for these 3 models, and from accuracy prespective, we probably would have chosen the Gradient Boosting model. But the accuracy is not our only measurement of choosing the right model. So if we must choose one model we decided to choose Logistic Regression because of its ROC curve. As it seems from the graph the LR preformes better than the other 2 models through almost all of the areas of its AUC.In addition, as we can see the LR model also has the fastest fitting time."
      ]
    }
  ],
  "metadata": {
    "colab": {
      "name": "Copy of Hw4-ML.ipynb",
      "provenance": []
    },
    "kernelspec": {
      "display_name": "Python 3",
      "name": "python3"
    },
    "language_info": {
      "name": "python"
    }
  },
  "nbformat": 4,
  "nbformat_minor": 0
}